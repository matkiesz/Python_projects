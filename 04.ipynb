{
 "cells": [
  {
   "cell_type": "markdown",
   "metadata": {},
   "source": [
    "# Wczytywanie wbudowanych danych"
   ]
  },
  {
   "cell_type": "markdown",
   "metadata": {},
   "source": [
    "Import funkcji która jest odpowiedzialna za wczytywanie zbioru danych"
   ]
  },
  {
   "cell_type": "code",
   "execution_count": null,
   "metadata": {},
   "outputs": [],
   "source": [
    "from sklearn.datasets import load_breast_cancer"
   ]
  },
  {
   "cell_type": "markdown",
   "metadata": {},
   "source": [
    "Wczytywanie wbudowanego zbioru danych"
   ]
  },
  {
   "cell_type": "code",
   "execution_count": null,
   "metadata": {},
   "outputs": [],
   "source": [
    "breast = load_breast_cancer()"
   ]
  },
  {
   "cell_type": "markdown",
   "metadata": {},
   "source": [
    "Wyświetlamy zmienną breast. Widzimy, że ma strukturę słownikową (czyli {klucz:wartość})"
   ]
  },
  {
   "cell_type": "code",
   "execution_count": null,
   "metadata": {},
   "outputs": [],
   "source": [
    "breast"
   ]
  },
  {
   "cell_type": "markdown",
   "metadata": {},
   "source": [
    "Skoro mamy słownik to sprawdźmy jakie klucze mamy dostępne."
   ]
  },
  {
   "cell_type": "code",
   "execution_count": null,
   "metadata": {},
   "outputs": [],
   "source": [
    "breast.keys()"
   ]
  },
  {
   "cell_type": "markdown",
   "metadata": {},
   "source": [
    "# Podział na X (data frame ze zmiennymi niezależymi) i y (series - jedna kolumna ze zmienną zależną)"
   ]
  },
  {
   "cell_type": "markdown",
   "metadata": {},
   "source": [
    "Dane wbudowane w scikit-learn mają mniej więcej tą samą strukturę, z dokumentacji możemy się dowiedzieć, że zmienne niezależne będą w kluczu [\"data\"] a zmienna zależna w kluczu [\"target\"]. Przypiszmy je więc do odpowiednich zmiennych. Konwencja w scikit-learn przyjmuje że nasze zmienne niezależne będą w zbiorze X a zależne w y.\n",
    "\n",
    "Dane otrzymaliśmy w formie macierzowej, przeróbmy je więc na DataFrame i Series, żeby w przyszłości jak będziemy potrzebować odnieść się do konkretnego przypadku mieć jego index."
   ]
  },
  {
   "cell_type": "code",
   "execution_count": null,
   "metadata": {},
   "outputs": [],
   "source": [
    "import pandas as pd\n",
    "X = pd.DataFrame(breast[\"data\"])\n",
    "y = pd.Series(breast[\"target\"])"
   ]
  },
  {
   "cell_type": "markdown",
   "metadata": {},
   "source": [
    "W tym momencie dokonamy podziału na zbiory treningowy i testowy. W tym celu zaimportujemy funkcję **train_test_split**"
   ]
  },
  {
   "cell_type": "code",
   "execution_count": null,
   "metadata": {},
   "outputs": [],
   "source": [
    "from sklearn.model_selection import train_test_split"
   ]
  },
  {
   "cell_type": "markdown",
   "metadata": {},
   "source": [
    "Możemy sobie podejrzeć kształt(wymiary i liczność) naszych zmiennych żeby upewnić się, że jak do tej pory wszystko działa zgodnie z planem (X powinien być 2-wymiarowy, a y 1-wymiarowy, liczność w pierwszych wymiarach powinna się zgadzać)"
   ]
  },
  {
   "cell_type": "code",
   "execution_count": null,
   "metadata": {},
   "outputs": [],
   "source": [
    "X.shape, y.shape"
   ]
  },
  {
   "cell_type": "markdown",
   "metadata": {},
   "source": [
    "# Podział na zbiór treningowy i testowy"
   ]
  },
  {
   "cell_type": "markdown",
   "metadata": {},
   "source": [
    "Podzielmy teraz obydwa obiekty na nowe zbiory treningowe i testowe. Funkcja **train_test_split** dzieli nam każdy kolejny obiekt który jej podamy (w tym wypadku X i y) na dwa zbiory zgodnie z proporcją którą podamy jako parametr - 0.2.\n",
    "Zwróćmy uwagę, że wynik jednej funkcji jest zapisywany w czterech zmiennych. W Pythonie nazywa się to rozpakowywaniem - funkcja **train_test_split** wyprodukuje nam cztery obiekty które zostaną przyporządkowane do kolejnych zmiennych."
   ]
  },
  {
   "cell_type": "code",
   "execution_count": null,
   "metadata": {},
   "outputs": [],
   "source": [
    "X_train, X_test, y_train, y_test = train_test_split(X, y, \n",
    "                                                    test_size=0.2, random_state=42)"
   ]
  },
  {
   "cell_type": "markdown",
   "metadata": {},
   "source": [
    "Oceńmy ponownie, czy otrzymaliśmy to co chcieliśmy"
   ]
  },
  {
   "cell_type": "code",
   "execution_count": null,
   "metadata": {},
   "outputs": [],
   "source": [
    "X_train.shape, y_train.shape, X_test.shape, y_test.shape"
   ]
  },
  {
   "cell_type": "markdown",
   "metadata": {},
   "source": [
    "# Uczenie maszynowe"
   ]
  },
  {
   "cell_type": "markdown",
   "metadata": {},
   "source": [
    "Skoro mamy już zbiory testowe i treningowe, możemy przystąpić do uczenia maszynowego. Zaimportujmy funkcję klasyfikatora - drzewo decyzyjne"
   ]
  },
  {
   "cell_type": "code",
   "execution_count": null,
   "metadata": {},
   "outputs": [],
   "source": [
    "from sklearn.tree import DecisionTreeClassifier"
   ]
  },
  {
   "cell_type": "markdown",
   "metadata": {},
   "source": [
    "Skonfigurujmy sobie klasyfikator z wszystkimi parametrami domyślnymi, oprócz kryterium które ustawimy jako entropię"
   ]
  },
  {
   "cell_type": "code",
   "execution_count": null,
   "metadata": {},
   "outputs": [],
   "source": [
    "classifier = DecisionTreeClassifier(criterion = \"entropy\")"
   ]
  },
  {
   "cell_type": "markdown",
   "metadata": {},
   "source": [
    "Wytrenujmy nasz klasyfikator"
   ]
  },
  {
   "cell_type": "code",
   "execution_count": null,
   "metadata": {},
   "outputs": [],
   "source": [
    "classifier.fit(X = X_train, y = y_train)"
   ]
  },
  {
   "cell_type": "markdown",
   "metadata": {},
   "source": [
    "# Wizualizacja"
   ]
  },
  {
   "cell_type": "markdown",
   "metadata": {},
   "source": [
    "Ten sposób wizualizacji działa tylko do wizualizacji drzew decyzyjnych. Zaczynamy od importów."
   ]
  },
  {
   "cell_type": "code",
   "execution_count": null,
   "metadata": {},
   "outputs": [],
   "source": [
    "from sklearn import tree\n",
    "import graphviz"
   ]
  },
  {
   "cell_type": "markdown",
   "metadata": {},
   "source": [
    "Przerabiamy klasyfikator na dane do wizualizacji "
   ]
  },
  {
   "cell_type": "code",
   "execution_count": null,
   "metadata": {},
   "outputs": [],
   "source": [
    "dane_do_wizu = tree.export_graphviz(classifier, out_file = None) "
   ]
  },
  {
   "cell_type": "markdown",
   "metadata": {},
   "source": [
    "Używamy **dane_do_wizu** do wizualizacji"
   ]
  },
  {
   "cell_type": "code",
   "execution_count": null,
   "metadata": {},
   "outputs": [],
   "source": [
    "graph = graphviz.Source(dane_do_wizu) "
   ]
  },
  {
   "cell_type": "markdown",
   "metadata": {},
   "source": [
    "I zapisujemy wizualizację do pliku, który będzie miał rozszerzenie .pdf"
   ]
  },
  {
   "cell_type": "code",
   "execution_count": null,
   "metadata": {},
   "outputs": [],
   "source": [
    "graph.render(\"../output/breast\") "
   ]
  },
  {
   "cell_type": "markdown",
   "metadata": {},
   "source": [
    "A tutaj robimy nieco ładniejsza wizualizację i wyświetlamy ją w notebooku"
   ]
  },
  {
   "cell_type": "code",
   "execution_count": null,
   "metadata": {},
   "outputs": [],
   "source": [
    "dane_do_wizu = tree.export_graphviz(classifier, out_file = None, \n",
    "                                feature_names = breast.feature_names, \n",
    "                                class_names = breast.target_names, filled = True, \n",
    "                                rounded = True, special_characters = True)\n",
    "graph = graphviz.Source(dane_do_wizu)  \n",
    "graph"
   ]
  },
  {
   "cell_type": "markdown",
   "metadata": {},
   "source": [
    "Predykcja"
   ]
  },
  {
   "cell_type": "code",
   "execution_count": null,
   "metadata": {},
   "outputs": [],
   "source": [
    "predicted = classifier.predict(X_test)"
   ]
  },
  {
   "cell_type": "markdown",
   "metadata": {},
   "source": [
    "Możemy posklejać wartości które odłożyliśmy na bok z tym co przewidzieliśmy"
   ]
  },
  {
   "cell_type": "code",
   "execution_count": null,
   "metadata": {},
   "outputs": [],
   "source": [
    "import pandas as pd\n",
    "wyniki = pd.DataFrame({\"y_true\":y_test,\"y_pred\":predicted}, index = y_test.index)"
   ]
  },
  {
   "cell_type": "markdown",
   "metadata": {},
   "source": [
    "Naoczne porównanie uzyskanych wyników"
   ]
  },
  {
   "cell_type": "code",
   "execution_count": null,
   "metadata": {},
   "outputs": [],
   "source": [
    "wyniki"
   ]
  },
  {
   "cell_type": "code",
   "execution_count": null,
   "metadata": {},
   "outputs": [],
   "source": []
  }
 ],
 "metadata": {
  "kernelspec": {
   "display_name": "Python 3",
   "language": "python",
   "name": "python3"
  },
  "language_info": {
   "codemirror_mode": {
    "name": "ipython",
    "version": 3
   },
   "file_extension": ".py",
   "mimetype": "text/x-python",
   "name": "python",
   "nbconvert_exporter": "python",
   "pygments_lexer": "ipython3",
   "version": "3.6.5"
  }
 },
 "nbformat": 4,
 "nbformat_minor": 2
}
